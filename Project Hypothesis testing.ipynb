{
 "cells": [
  {
   "cell_type": "markdown",
   "id": "3fa8c567",
   "metadata": {},
   "source": [
    "# `Unknown Variance of population` \n",
    "\n",
    "## `Here we will use T-test as population Standard Deviation is not given` \n",
    "\n",
    "---"
   ]
  },
  {
   "cell_type": "markdown",
   "id": "ed768848",
   "metadata": {},
   "source": [
    "---\n",
    "## Presented by:\n",
    "### Name: Manuj Kumar Joshi\n",
    "### Batch: 104\n",
    "---"
   ]
  },
  {
   "cell_type": "markdown",
   "id": "cf1ec1c8",
   "metadata": {},
   "source": [
    "### `T-Test Steps`:\n",
    "---\n",
    "\n",
    "**Step - 1**:  \n",
    "- Alternate Hypothesis (Bold claim): $ H_1 \\ \\Rightarrow \\ >, \\ <, \\ \\neq  $  \n",
    "- Null Hypothesis (Status Quo): $ H_0 \\ \\Rightarrow \\ \\leq, \\ \\geq, \\ = $\n",
    "\n",
    "**Step - 2** :  \n",
    "* Collect a sample of size n\n",
    "* Compute the mean from this sample $ \\bar{x} $\n",
    "\n",
    "**Step - 3**:\n",
    "Compute Test Statistic:  \n",
    "\n",
    "* **If population variance is unknown** $$ t = \\frac{\\bar{x} - \\mu}{s/\\sqrt[2]{n}} $$\n",
    "\n",
    "**Step - 4**:\n",
    "Decide significance level $ \\alpha $. **Lower $ \\alpha $ means you need stronger evidence to reject Null Hypothesis**.\n",
    "\n",
    "**Step - 5.1**:\n",
    "Apply decision rule:\n",
    "* If test statistic is t-score\n",
    "    * Two tailed t-test: $$ |t| > t_{n-1,\\frac{\\alpha}{2}} \\Rightarrow Accept \\ H_1 \\ or \\ Reject \\ H_0 $$\n",
    "    * Right tailed t-test: $$ t > t_{n-1,\\alpha} \\Rightarrow Accept \\ H_1 \\ or \\ Reject \\ H_0 $$\n",
    "    * Left tailed t-test: $$ t < t_{n-1,\\alpha} \\Rightarrow Accept \\ H_1 \\ or \\ Reject \\ H_0 $$\n",
    "\n",
    "**Step - 5.2**: \n",
    "Compute p-value $ P(Test \\ Statistics | H_0) $\n",
    "* For two tailed test: $$ p \\ value = 2 * (1.0 - cdf(test \\ statistic)) $$\n",
    "* For one tailed test: $$ p \\ value = (1.0 - cdf(test \\ statistic)) $$\n",
    "Now, $$ if (p \\ value < \\alpha) \\Rightarrow Accept \\ H_1 \\ or \\ Reject \\ H_0 $$\n",
    "\n",
    "---"
   ]
  },
  {
   "cell_type": "markdown",
   "id": "9461307f",
   "metadata": {},
   "source": [
    "<b>Q-1: Pista House selling Hyderabadi Chicken Dum biryani claims that each parcel packet has 500 grams of biryani (also mentioned on the label of packet). You are sceptic of their claims and believe that on average each packet does not contain 500 grams of biryani. How do you prove your claim? (Given that the population std is 50) </b>\n",
    "![](https://res.cloudinary.com/swiggy/image/upload/f_auto,q_auto,fl_lossy/jy7dc9b2kq5erjwvdy95)"
   ]
  },
  {
   "cell_type": "code",
   "execution_count": 105,
   "id": "243d82c9",
   "metadata": {},
   "outputs": [],
   "source": [
    "import numpy as np\n",
    "from scipy.stats import t\n",
    "import statistics\n",
    "import seaborn as sns\n",
    "import warnings\n",
    "warnings.filterwarnings('ignore')\n",
    "from scipy.stats import norm\n",
    "import matplotlib.pyplot as plt\n",
    "import statistics as st"
   ]
  },
  {
   "cell_type": "markdown",
   "id": "500922fa",
   "metadata": {},
   "source": [
    "### T-score function :"
   ]
  },
  {
   "cell_type": "code",
   "execution_count": 106,
   "id": "21944e66",
   "metadata": {},
   "outputs": [],
   "source": [
    "def t_score(sample_size, sample_mean,sample_std, pop_mean):\n",
    "    numerator=sample_mean - pop_mean\n",
    "    denominator=sample_std/np.sqrt(sample_size)\n",
    "    return numerator/denominator"
   ]
  },
  {
   "cell_type": "code",
   "execution_count": 107,
   "id": "cfae00c8",
   "metadata": {},
   "outputs": [
    {
     "data": {
      "text/plain": [
       "465.3"
      ]
     },
     "execution_count": 107,
     "metadata": {},
     "output_type": "execute_result"
    }
   ],
   "source": [
    "l = [490, 220, 470, 500, 495, 496, 496, 498, 508, 480]\n",
    "sample_mean=sum(l)/len(l)\n",
    "sample_mean"
   ]
  },
  {
   "cell_type": "code",
   "execution_count": 108,
   "id": "9d25173a",
   "metadata": {},
   "outputs": [],
   "source": [
    "# Defining the sample and population parameters\n",
    "sample_size = 10\n",
    "pop_mean = 500\n",
    "## sample mean an sample std are defined above"
   ]
  },
  {
   "cell_type": "code",
   "execution_count": 109,
   "id": "45a7834d",
   "metadata": {},
   "outputs": [
    {
     "data": {
      "text/plain": [
       "86.84859110991827"
      ]
     },
     "execution_count": 109,
     "metadata": {},
     "output_type": "execute_result"
    }
   ],
   "source": [
    "var = np.std(l) ** 2    # std of sample is devided by n-1\n",
    "sample_std = np.sqrt(var * (sample_size) / (sample_size - 1)) \n",
    "sample_std "
   ]
  },
  {
   "cell_type": "code",
   "execution_count": null,
   "id": "4be4ed48",
   "metadata": {},
   "outputs": [],
   "source": []
  },
  {
   "cell_type": "code",
   "execution_count": 110,
   "id": "5487e4d0",
   "metadata": {},
   "outputs": [
    {
     "name": "stdout",
     "output_type": "stream",
     "text": [
      "-1.2634751284446715\n"
     ]
    }
   ],
   "source": [
    "# Calculating the t-score as T-test statistic\n",
    "t_value = t_score(sample_size,sample_mean,sample_std,pop_mean)\n",
    "print(t_value)"
   ]
  },
  {
   "cell_type": "markdown",
   "id": "8868cbb1",
   "metadata": {},
   "source": [
    " $$ t = \\frac{\\bar{x} - \\mu}{s/\\sqrt[2]{n}} $$"
   ]
  },
  {
   "cell_type": "code",
   "execution_count": 111,
   "id": "7c523c5c",
   "metadata": {},
   "outputs": [
    {
     "name": "stdout",
     "output_type": "stream",
     "text": [
      "2.2621571627409915\n"
     ]
    }
   ],
   "source": [
    "alpha = 1 - 0.95\n",
    "t_critical = t.ppf(1-alpha/2, df = 9)   # finding critical value\n",
    "print(t_critical)"
   ]
  },
  {
   "cell_type": "code",
   "execution_count": 112,
   "id": "433d08b0",
   "metadata": {},
   "outputs": [],
   "source": [
    "p_value=(1-t.cdf(abs(t_value),9)) * 2    # find p value"
   ]
  },
  {
   "cell_type": "markdown",
   "id": "6541ca4a",
   "metadata": {},
   "source": [
    "- #### Alternate Hypothesis (Bold claim):  On average each packet do not contain 500 grams of biryani.\n",
    "- #### Null Hypothesis (Status Quo):  On average each packet contain 500 grams of biryani."
   ]
  },
  {
   "cell_type": "markdown",
   "id": "1eb1c234",
   "metadata": {},
   "source": [
    "### Ploting the sampling distribution with rejection regions"
   ]
  },
  {
   "cell_type": "code",
   "execution_count": 113,
   "id": "01864a44",
   "metadata": {},
   "outputs": [
    {
     "data": {
      "text/plain": [
       "Text(465.3, 0.0002, 'x_bar')"
      ]
     },
     "execution_count": 113,
     "metadata": {},
     "output_type": "execute_result"
    },
    {
     "data": {
      "image/png": "[encoded data removed]",
      "text/plain": [
       "<Figure size 432x288 with 1 Axes>"
      ]
     },
     "metadata": {
      "needs_background": "light"
     },
     "output_type": "display_data"
    }
   ],
   "source": [
    "# Defining the x minimum and x maximum\n",
    "x_min = 400\n",
    "x_max = 600\n",
    "\n",
    "\n",
    "# Defining the sampling distribution mean and sampling distribution std\n",
    "mean = pop_mean\n",
    "std = sample_std/ (sample_size**0.5)\n",
    "\n",
    "\n",
    "\n",
    "# Ploting the graph and setting the x limits\n",
    "x = np.linspace(x_min, x_max, 100)\n",
    "y = norm.pdf(x, mean, std)\n",
    "plt.xlim(x_min, x_max)\n",
    "plt.plot(x, y)\n",
    "\n",
    "\n",
    "# Computing the left and right critical values (Two tailed Test)\n",
    "t_critical_left = mean + (-t_critical * std)\n",
    "t_critical_right = mean + (t_critical * std)\n",
    "\n",
    "\n",
    "# Shading the left rejection region\n",
    "x1 = np.linspace(x_min, t_critical_left, 100)\n",
    "y1 = norm.pdf(x1, mean, std)\n",
    "plt.fill_between(x1, y1, color='orange')\n",
    "\n",
    "\n",
    "# Shading the right rejection region\n",
    "x2 = np.linspace(t_critical_right, x_max, 100)\n",
    "y2 = norm.pdf(x2, mean, std)\n",
    "plt.fill_between(x2, y2, color='orange')\n",
    "\n",
    "\n",
    "# Ploting the sample mean and concluding the results \n",
    "plt.scatter(sample_mean, 0)\n",
    "plt.annotate(\"x_bar\", (sample_mean, 0.0002))\n",
    "\n",
    "\n",
    "# In this case sample mean falls in the acceptance region\n",
    "# i.e. here we Failed to reject the Null Hypothesis"
   ]
  },
  {
   "cell_type": "code",
   "execution_count": 114,
   "id": "d6a2957c",
   "metadata": {},
   "outputs": [
    {
     "name": "stdout",
     "output_type": "stream",
     "text": [
      "Population mean: 500\n",
      "Sample_mean: 465.3\n",
      "Left critical: 437.8722605772688\n",
      "Right Critical: 562.1277394227312\n"
     ]
    }
   ],
   "source": [
    "print('Population mean:',mean)\n",
    "print('Sample_mean:',sample_mean)\n",
    "print('Left critical:',t_critical_left)\n",
    "print('Right Critical:',t_critical_right)"
   ]
  },
  {
   "cell_type": "markdown",
   "id": "f91e88fe",
   "metadata": {},
   "source": [
    "### Conclusion using T-test"
   ]
  },
  {
   "cell_type": "code",
   "execution_count": 115,
   "id": "a26c320d",
   "metadata": {},
   "outputs": [
    {
     "name": "stdout",
     "output_type": "stream",
     "text": [
      "Accept Null Hypothesis\n"
     ]
    }
   ],
   "source": [
    "if(t_value > t_critical):  # 2 tailed t test\n",
    "    print(\"Reject Null Hypothesis\")\n",
    "else:\n",
    "    print(\"Fail to reject Null Hypothesis\")"
   ]
  },
  {
   "cell_type": "markdown",
   "id": "2010c016",
   "metadata": {},
   "source": [
    "### Conclusion using p-test"
   ]
  },
  {
   "cell_type": "code",
   "execution_count": 116,
   "id": "b2c26ab3",
   "metadata": {},
   "outputs": [
    {
     "name": "stdout",
     "output_type": "stream",
     "text": [
      "p_value =  0.23816470585327654\n",
      "Accept Null Hypothesis\n"
     ]
    }
   ],
   "source": [
    "print(\"p_value = \", p_value)   # 2 tailed\n",
    "\n",
    "if(p_value < alpha):\n",
    "    print(\"Reject Null Hypothesis\")\n",
    "else:\n",
    "    print(\"Failed to Reject Null Hypothesis\")"
   ]
  },
  {
   "cell_type": "markdown",
   "id": "6ff85e09",
   "metadata": {},
   "source": [
    "### Finding: `On average each packet contain 500 grams of biryani`\n",
    "\n",
    "---"
   ]
  },
  {
   "cell_type": "markdown",
   "id": "b9221914",
   "metadata": {},
   "source": [
    "<b>Q-2: You have developed a new Natural Language Processing Algorithms and done a user study. You claim that the average rating given by the users is greater than 4 on a scale of 1 to 5. How do you prove this to your client? ~(Given that the population std is 0.5)~ </b>\n",
    "\n",
    "![](https://thumbor.forbes.com/thumbor/960x0/https%3A%2F%2Fspecials-images.forbesimg.com%2Fimageserve%2F5f5afcbb8de14d399113ebc7%2F4-Simple-Ways-Businesses-Can-Use-Natural-Language-Processing%2F960x0.jpg%3Ffit%3Dscale)\n",
    "\n",
    "---\n"
   ]
  },
  {
   "cell_type": "code",
   "execution_count": 117,
   "id": "ad03ce11",
   "metadata": {},
   "outputs": [
    {
     "data": {
      "text/plain": [
       "4.25"
      ]
     },
     "execution_count": 117,
     "metadata": {},
     "output_type": "execute_result"
    }
   ],
   "source": [
    "l = [4,3,5,4,5,3,5,5,4,2,4,5,5,4,4,5,4,5,4,5]\n",
    "\n",
    "sum(l)/len(l)"
   ]
  },
  {
   "cell_type": "code",
   "execution_count": 118,
   "id": "3b29a28c",
   "metadata": {},
   "outputs": [],
   "source": [
    "# Defining the sample and population parameters\n",
    "sample_size = 20\n",
    "sample_mean = 4.25\n",
    "pop_mean = 4"
   ]
  },
  {
   "cell_type": "code",
   "execution_count": 119,
   "id": "9b35fc19",
   "metadata": {},
   "outputs": [
    {
     "data": {
      "text/plain": [
       "0.8506963092234007"
      ]
     },
     "execution_count": 119,
     "metadata": {},
     "output_type": "execute_result"
    }
   ],
   "source": [
    "var = np.std(l) ** 2    # std of sample is devided by n-1\n",
    "sample_std = np.sqrt(var * (sample_size) / (sample_size - 1))\n",
    "sample_std"
   ]
  },
  {
   "cell_type": "code",
   "execution_count": 120,
   "id": "932b340b",
   "metadata": {},
   "outputs": [
    {
     "name": "stdout",
     "output_type": "stream",
     "text": [
      "1.3142574813455419\n"
     ]
    }
   ],
   "source": [
    "# Calculating the t-score\n",
    "t_value = t_score(sample_size,sample_mean,sample_std,pop_mean)\n",
    "print(t_value)"
   ]
  },
  {
   "cell_type": "code",
   "execution_count": 121,
   "id": "22e192dd",
   "metadata": {},
   "outputs": [
    {
     "name": "stdout",
     "output_type": "stream",
     "text": [
      "1.729132811521367\n"
     ]
    }
   ],
   "source": [
    "alpha = 1 - 0.95    \n",
    "t_critical = t.ppf(1-alpha, 19)   # finding critical value\n",
    "print(t_critical)"
   ]
  },
  {
   "cell_type": "code",
   "execution_count": 122,
   "id": "5b304a4d",
   "metadata": {},
   "outputs": [
    {
     "data": {
      "text/plain": [
       "0.10220287084734081"
      ]
     },
     "execution_count": 122,
     "metadata": {},
     "output_type": "execute_result"
    }
   ],
   "source": [
    "p_value=(1-t.cdf(abs(t_value),19))    # find p value\n",
    "p_value"
   ]
  },
  {
   "cell_type": "markdown",
   "id": "e9a85f69",
   "metadata": {},
   "source": [
    "- #### Alternate Hypothesis (Bold claim):  Average rating given by the users is greater than 4 on a scale of 1 to 5.\n",
    "- #### Null Hypothesis (Status Quo): Average rating given by the users are not greater then equal to 4 on a scale of 1 to 5."
   ]
  },
  {
   "cell_type": "markdown",
   "id": "a4857342",
   "metadata": {},
   "source": [
    "### Ploting the sampling distribution with rejection regions"
   ]
  },
  {
   "cell_type": "code",
   "execution_count": 123,
   "id": "94362bab",
   "metadata": {},
   "outputs": [
    {
     "data": {
      "text/plain": [
       "Text(4.25, 0.1, 'x_bar')"
      ]
     },
     "execution_count": 123,
     "metadata": {},
     "output_type": "execute_result"
    },
    {
     "data": {
      "image/png": "[encoded data removed]",
      "text/plain": [
       "<Figure size 432x288 with 1 Axes>"
      ]
     },
     "metadata": {
      "needs_background": "light"
     },
     "output_type": "display_data"
    }
   ],
   "source": [
    "# Defining the x minimum and x maximum\n",
    "x_min = 3\n",
    "x_max = 5\n",
    "\n",
    "\n",
    "# Defining the sampling distribution mean and sampling distribution std\n",
    "mean = pop_mean\n",
    "std = sample_std/ (sample_size**0.5)    # standard eror\n",
    "\n",
    "\n",
    "\n",
    "# Ploting the graph and setting the x limits\n",
    "x = np.linspace(x_min, x_max, 100)\n",
    "y = norm.pdf(x, mean, std)\n",
    "plt.xlim(x_min, x_max)\n",
    "plt.plot(x, y)\n",
    "\n",
    "\n",
    "# Computing the right critical value (Right tailed Test)\n",
    "t_critical_right = pop_mean + (t_critical * std)\n",
    "\n",
    "\n",
    "# Shading the right rejection region\n",
    "x1 = np.linspace(t_critical_right, x_max, 100)\n",
    "y1 = norm.pdf(x1, mean, std)\n",
    "plt.fill_between(x1, y1, color='orange')\n",
    "\n",
    "\n",
    "# Ploting the sample mean and concluding the results \n",
    "plt.scatter(sample_mean, 0)\n",
    "plt.annotate(\"x_bar\", (sample_mean, 0.1))\n",
    "\n",
    "# In this case sample mean falls in the acceptance region\n",
    "# i.e. Failed to Reject the Null Hypothesis"
   ]
  },
  {
   "cell_type": "code",
   "execution_count": 124,
   "id": "99d933bf",
   "metadata": {},
   "outputs": [
    {
     "name": "stdout",
     "output_type": "stream",
     "text": [
      "Population mean: 4\n",
      "Sample_mean: 4.25\n",
      "Right Critical: 4.328918198310554\n"
     ]
    }
   ],
   "source": [
    "print('Population mean:',mean)\n",
    "print('Sample_mean:',sample_mean)\n",
    "print('Right Critical:',t_critical_right)"
   ]
  },
  {
   "cell_type": "markdown",
   "id": "e0b77fbb",
   "metadata": {},
   "source": [
    "### Conclusion using t-test"
   ]
  },
  {
   "cell_type": "code",
   "execution_count": 125,
   "id": "5d1a2f43",
   "metadata": {},
   "outputs": [
    {
     "name": "stdout",
     "output_type": "stream",
     "text": [
      "Accept Null Hypothsis\n"
     ]
    }
   ],
   "source": [
    "if(t_value > t_critical):   # right tailed test\n",
    "    print('Reject Null Hypothesis')\n",
    "else:\n",
    "    print('Fail to Reject Null Hypothesis')"
   ]
  },
  {
   "cell_type": "markdown",
   "id": "6c9bd817",
   "metadata": {},
   "source": [
    "### Conclusion using p-test"
   ]
  },
  {
   "cell_type": "code",
   "execution_count": 126,
   "id": "b8ad6dec",
   "metadata": {},
   "outputs": [
    {
     "name": "stdout",
     "output_type": "stream",
     "text": [
      "p_value =  0.10220287084734081\n",
      "Accept Null Hypothesis\n"
     ]
    }
   ],
   "source": [
    "print(\"p_value = \", p_value)   # 1 tailed\n",
    "\n",
    "if(p_value < alpha):\n",
    "    print('Reject Null Hypothesis')\n",
    "else:\n",
    "    print('Fail to Reject Null Hypothesis')"
   ]
  },
  {
   "cell_type": "markdown",
   "id": "0c114fc6",
   "metadata": {},
   "source": [
    "### Finding:`Average rating given by the users is not greater than 4 on a scale of 1 to 5`\n",
    "\n",
    "---"
   ]
  },
  {
   "cell_type": "markdown",
   "id": "1c0eaad8",
   "metadata": {},
   "source": [
    "<b>Q-3: TATA has developed a better fuel management system for the SUV segment. They claim that with this system, on average the SUV's mileage is at least 15 km/litre? (~Given that the population std is 1~)</b>\n",
    "\n",
    "![](https://images.livemint.com/img/2021/02/22/1600x900/safari-overview-desktop-banner_1613971729141_1613971744902.jpg)\n",
    "\n",
    "---\n"
   ]
  },
  {
   "cell_type": "code",
   "execution_count": 127,
   "id": "70e47246",
   "metadata": {},
   "outputs": [
    {
     "data": {
      "text/plain": [
       "15.098999999999998"
      ]
     },
     "execution_count": 127,
     "metadata": {},
     "output_type": "execute_result"
    }
   ],
   "source": [
    "l = [14.08,14.13,15.65,13.78,16.26,14.97,15.36,15.81,14.53,16.79,15.78,16.98,13.23,15.43,15.46,13.88,14.31,14.41,15.76,15.38]\n",
    "sum(l)/len(l)"
   ]
  },
  {
   "cell_type": "code",
   "execution_count": 128,
   "id": "2fbf719c",
   "metadata": {},
   "outputs": [],
   "source": [
    "sample_size = 20\n",
    "sample_mean = 15.1\n",
    "pop_mean = 15"
   ]
  },
  {
   "cell_type": "code",
   "execution_count": 129,
   "id": "ba296ec3",
   "metadata": {},
   "outputs": [
    {
     "data": {
      "text/plain": [
       "1.0253671999517255"
      ]
     },
     "execution_count": 129,
     "metadata": {},
     "output_type": "execute_result"
    }
   ],
   "source": [
    "var = np.std(l) ** 2   # sample size n\n",
    "sample_std = np.sqrt(var * (sample_size) / (sample_size - 1)) # n-1\n",
    "sample_std"
   ]
  },
  {
   "cell_type": "code",
   "execution_count": 130,
   "id": "7b452206",
   "metadata": {},
   "outputs": [
    {
     "name": "stdout",
     "output_type": "stream",
     "text": [
      "0.4361496988795929\n"
     ]
    }
   ],
   "source": [
    "# Calculating the t-score\n",
    "t_value = t_score(sample_size,sample_mean,sample_std,pop_mean)\n",
    "print(t_value)"
   ]
  },
  {
   "cell_type": "code",
   "execution_count": 131,
   "id": "54fa1f0a",
   "metadata": {},
   "outputs": [
    {
     "name": "stdout",
     "output_type": "stream",
     "text": [
      "1.729132811521367\n"
     ]
    }
   ],
   "source": [
    "alpha = 1 - 0.95    \n",
    "t_critical = t.ppf(1-alpha, df = 19)   # finding critical value\n",
    "print(t_critical)"
   ]
  },
  {
   "cell_type": "code",
   "execution_count": 132,
   "id": "b4ed2d1f",
   "metadata": {},
   "outputs": [
    {
     "data": {
      "text/plain": [
       "0.33382179395277345"
      ]
     },
     "execution_count": 132,
     "metadata": {},
     "output_type": "execute_result"
    }
   ],
   "source": [
    "p_value=(1-t.cdf(abs(t_value),19))    # find p value\n",
    "p_value"
   ]
  },
  {
   "cell_type": "markdown",
   "id": "1c62d7ee",
   "metadata": {},
   "source": [
    "- #### Alternate Hypothesis (Bold claim):  on average the SUV's mileage is at least 15 km/litre\n",
    "- #### Null Hypothesis (Status Quo): On average the SUV's mileage is greater than equal to 15 km/litre"
   ]
  },
  {
   "cell_type": "markdown",
   "id": "e27f1ff3",
   "metadata": {},
   "source": [
    "### Ploting the sampling distribution with rejection regions"
   ]
  },
  {
   "cell_type": "code",
   "execution_count": 133,
   "id": "28ee2adb",
   "metadata": {},
   "outputs": [
    {
     "data": {
      "text/plain": [
       "Text(15.1, 0.1, 'x_bar')"
      ]
     },
     "execution_count": 133,
     "metadata": {},
     "output_type": "execute_result"
    },
    {
     "data": {
      "image/png": "[encoded data removed]",
      "text/plain": [
       "<Figure size 432x288 with 1 Axes>"
      ]
     },
     "metadata": {
      "needs_background": "light"
     },
     "output_type": "display_data"
    }
   ],
   "source": [
    "x_min = 13\n",
    "x_max = 17\n",
    "\n",
    "mean = pop_mean\n",
    "std = sample_std / (sample_size**0.5)   # standard error\n",
    "\n",
    "x = np.linspace(x_min, x_max, 100)\n",
    "y = norm.pdf(x, mean, std)\n",
    "\n",
    "plt.xlim(x_min, x_max)\n",
    "# plt.ylim(0, 0.03)\n",
    "\n",
    "plt.plot(x, y)\n",
    "\n",
    "t_critical_right = pop_mean + (t_critical * std)\n",
    "\n",
    "x1 = np.linspace(t_critical_right, x_max, 100)\n",
    "y1 = norm.pdf(x1, mean, std)\n",
    "plt.fill_between(x1, y1, color='orange')\n",
    "\n",
    "plt.scatter(sample_mean, 0)\n",
    "plt.annotate(\"x_bar\", (sample_mean, 0.1))\n",
    "\n",
    "# In this case sample mean falls in the acceptance region\n",
    "# i.e. Fail to Reject the Null Hypothesis"
   ]
  },
  {
   "cell_type": "markdown",
   "id": "7e3de892",
   "metadata": {},
   "source": [
    "### Conclusion using T-test"
   ]
  },
  {
   "cell_type": "code",
   "execution_count": 134,
   "id": "fcfa82e2",
   "metadata": {},
   "outputs": [
    {
     "name": "stdout",
     "output_type": "stream",
     "text": [
      "Accept Null Hypothesis\n"
     ]
    }
   ],
   "source": [
    "if(np.abs(t_value) > t_critical):   # right tailed t test\n",
    "    print(\"Reject Null Hypothesis\") \n",
    "else:\n",
    "    print(\"Fail to Reject Null Hypothesis\")"
   ]
  },
  {
   "cell_type": "markdown",
   "id": "c24e5ad9",
   "metadata": {},
   "source": [
    "### Conclusion using p-test"
   ]
  },
  {
   "cell_type": "code",
   "execution_count": 135,
   "id": "75c59ccb",
   "metadata": {},
   "outputs": [
    {
     "name": "stdout",
     "output_type": "stream",
     "text": [
      "p_value =  0.33382179395277345\n",
      "Accept Null Hypothesis\n"
     ]
    }
   ],
   "source": [
    "print(\"p_value = \", p_value)    # 1 tailed \n",
    "\n",
    "if(p_value < alpha):\n",
    "    print(\"Reject Null Hypothesis\")\n",
    "else:\n",
    "    print('Fail to Reject Null Hypothesis')"
   ]
  },
  {
   "cell_type": "markdown",
   "id": "a055fe85",
   "metadata": {},
   "source": [
    "### `On average the SUV's mileage is at least 15 km/litre`\n",
    "\n",
    "---"
   ]
  },
  {
   "cell_type": "markdown",
   "id": "0d592606",
   "metadata": {},
   "source": [
    "<b>Q-4: You have developed a new Machine Learning Application and claim that on average it takes less than 100 ms to predict for any future datapoint. How do you convince your client about this claim? (~Based on past data you know that the std is 10 ms~)</b>\n",
    "![](https://www.bbva.com/wp-content/uploads/2018/01/inteligencia-artificial-ai-cerebro-tecnologia-innovacion-BBVA-1024x431.jpg)\n",
    "\n",
    "\n"
   ]
  },
  {
   "cell_type": "code",
   "execution_count": 136,
   "id": "150aee16",
   "metadata": {},
   "outputs": [],
   "source": [
    "sample_size = 100\n",
    "sample_mean = 97.5\n",
    "pop_mean = 100"
   ]
  },
  {
   "cell_type": "code",
   "execution_count": 137,
   "id": "a04dc2e7",
   "metadata": {},
   "outputs": [
    {
     "data": {
      "text/plain": [
       "array([108, 108, 108, 102,  98, 102, 109,  98, 103, 110,  90,  94, 109,\n",
       "       109, 106,  92, 108, 104, 107,  99,  96, 105,  96,  98, 108, 106,\n",
       "        96,  90, 106, 103, 105, 109, 101, 109,  99,  92,  97,  99, 109,\n",
       "       104,  98,  98, 107, 105,  95, 110,  98, 103, 100,  96, 105, 101,\n",
       "        92,  97,  90,  92,  94, 100, 102,  94,  97,  94,  96,  96, 107,\n",
       "       101, 108, 107,  97, 105,  91, 101, 105, 106,  96, 104, 105,  98,\n",
       "       109,  99, 110,  94,  96,  99, 110, 101, 110, 110,  91,  92,  96,\n",
       "        94, 100, 106, 102, 108, 110,  92,  95,  98])"
      ]
     },
     "execution_count": 137,
     "metadata": {},
     "output_type": "execute_result"
    }
   ],
   "source": [
    "l=np.random.random_integers(90,110,100)  # created sample\n",
    "l"
   ]
  },
  {
   "cell_type": "code",
   "execution_count": 138,
   "id": "03b2e6a1",
   "metadata": {},
   "outputs": [
    {
     "data": {
      "text/plain": [
       "6.014082799495856"
      ]
     },
     "execution_count": 138,
     "metadata": {},
     "output_type": "execute_result"
    }
   ],
   "source": [
    "var = np.std(l) ** 2    # std of sample is devided by n-1\n",
    "sample_std = np.sqrt(var * (sample_size) / (sample_size - 1))\n",
    "sample_std"
   ]
  },
  {
   "cell_type": "code",
   "execution_count": 139,
   "id": "20cc0786",
   "metadata": {},
   "outputs": [
    {
     "name": "stdout",
     "output_type": "stream",
     "text": [
      "-4.156909845354254\n"
     ]
    }
   ],
   "source": [
    "# Calculating the t-score\n",
    "t_value = t_score(sample_size,sample_mean,sample_std,pop_mean)\n",
    "print(t_value)"
   ]
  },
  {
   "cell_type": "code",
   "execution_count": 140,
   "id": "d6816c5f",
   "metadata": {},
   "outputs": [
    {
     "name": "stdout",
     "output_type": "stream",
     "text": [
      "1.729132811521367\n"
     ]
    }
   ],
   "source": [
    "alpha = 1 - 0.95    # type 1 error rate\n",
    "t_critical = t.ppf(1-alpha, df = 19)   # finding critical value\n",
    "print(t_critical)"
   ]
  },
  {
   "cell_type": "code",
   "execution_count": 141,
   "id": "fa8204a6",
   "metadata": {},
   "outputs": [
    {
     "data": {
      "text/plain": [
       "0.00026772987479761756"
      ]
     },
     "execution_count": 141,
     "metadata": {},
     "output_type": "execute_result"
    }
   ],
   "source": [
    "p_value=(1-t.cdf(abs(t_value),19))    # find p value\n",
    "p_value"
   ]
  },
  {
   "cell_type": "markdown",
   "id": "730de97e",
   "metadata": {},
   "source": [
    "- #### Alternate Hypothesis (Bold claim):  On average it takes less than 100 ms to predict for any future datapoint\n",
    "- #### Null Hypothesis (Status Quo): On average it takes greater than equal to 100 ms to predict for any future datapoint"
   ]
  },
  {
   "cell_type": "code",
   "execution_count": 142,
   "id": "e8d26c0f",
   "metadata": {},
   "outputs": [
    {
     "data": {
      "text/plain": [
       "Text(97.5, 0.02, 'x_bar')"
      ]
     },
     "execution_count": 142,
     "metadata": {},
     "output_type": "execute_result"
    },
    {
     "data": {
      "image/png": "[encoded data removed]",
      "text/plain": [
       "<Figure size 432x288 with 1 Axes>"
      ]
     },
     "metadata": {
      "needs_background": "light"
     },
     "output_type": "display_data"
    }
   ],
   "source": [
    "x_min = 95\n",
    "x_max = 105\n",
    "\n",
    "mean = pop_mean\n",
    "std = sample_std / (sample_size**0.5)   # standard error\n",
    "\n",
    "\n",
    "x = np.linspace(x_min, x_max, 100)\n",
    "y = norm.pdf(x, mean, std)\n",
    "\n",
    "plt.xlim(x_min, x_max)\n",
    "# plt.ylim(0, 0.03)\n",
    "\n",
    "plt.plot(x, y)\n",
    "\n",
    "t_critical_left = pop_mean + (-t_critical * std)\n",
    "\n",
    "x1 = np.linspace(x_min, t_critical_left, 100)\n",
    "y1 = norm.pdf(x1, mean, std)\n",
    "plt.fill_between(x1, y1, color='orange')\n",
    "\n",
    "plt.scatter(sample_mean, 0)\n",
    "plt.annotate(\"x_bar\", (sample_mean, 0.02))\n",
    "\n",
    "# In this case sample mean falls in the rejection region\n",
    "\n",
    "# i.e. Reject Null Hypothesis"
   ]
  },
  {
   "cell_type": "markdown",
   "id": "a46489b5",
   "metadata": {},
   "source": [
    "### Conclusion by T-test"
   ]
  },
  {
   "cell_type": "code",
   "execution_count": 143,
   "id": "379b351c",
   "metadata": {},
   "outputs": [
    {
     "name": "stdout",
     "output_type": "stream",
     "text": [
      "Accept Alternate Hypothesis\n"
     ]
    }
   ],
   "source": [
    "if(t_value < - t_critical):   # Left tailed t test\n",
    "    print(\"Reject Null Hypothesis\") \n",
    "else:\n",
    "    print(\"Fail to Reject Null Hypothesis\")"
   ]
  },
  {
   "cell_type": "markdown",
   "id": "ba23e262",
   "metadata": {},
   "source": [
    "### Conclusion by p-test"
   ]
  },
  {
   "cell_type": "code",
   "execution_count": 144,
   "id": "ea8bf80f",
   "metadata": {},
   "outputs": [
    {
     "name": "stdout",
     "output_type": "stream",
     "text": [
      "p_value =  0.00026772987479761756\n",
      "Accept Alternate Hypothesis\n"
     ]
    }
   ],
   "source": [
    "print(\"p_value = \", p_value)    # 1 tailed \n",
    "\n",
    "if(p_value < alpha):\n",
    "    print(\"Reject Null Hypothesis\")\n",
    "else:\n",
    "    print(\"Fail to Reject Null Hypothesis\")"
   ]
  },
  {
   "cell_type": "markdown",
   "id": "dae79f11",
   "metadata": {},
   "source": [
    "#### `New Machine Learning Application and claim that on average it takes less than 100 ms to predict for any future datapoint`"
   ]
  },
  {
   "cell_type": "markdown",
   "id": "af52194d",
   "metadata": {},
   "source": [
    "# Hypothesis Testing Project Completed -----------------------------"
   ]
  },
  {
   "cell_type": "code",
   "execution_count": null,
   "id": "89e745ea",
   "metadata": {},
   "outputs": [],
   "source": []
  }
 ],
 "metadata": {
  "kernelspec": {
   "display_name": "Python 3",
   "language": "python",
   "name": "python3"
  },
  "language_info": {
   "codemirror_mode": {
    "name": "ipython",
    "version": 3
   },
   "file_extension": ".py",
   "mimetype": "text/x-python",
   "name": "python",
   "nbconvert_exporter": "python",
   "pygments_lexer": "ipython3",
   "version": "3.8.8"
  }
 },
 "nbformat": 4,
 "nbformat_minor": 5
}
